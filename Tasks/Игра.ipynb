{
  "nbformat": 4,
  "nbformat_minor": 0,
  "metadata": {
    "colab": {
      "provenance": [],
      "authorship_tag": "ABX9TyMUQ6vikGVDEH4CXPQXfutJ",
      "include_colab_link": true
    },
    "kernelspec": {
      "name": "python3",
      "display_name": "Python 3"
    },
    "language_info": {
      "name": "python"
    }
  },
  "cells": [
    {
      "cell_type": "markdown",
      "metadata": {
        "id": "view-in-github",
        "colab_type": "text"
      },
      "source": [
        "<a href=\"https://colab.research.google.com/github/German121/university/blob/main/Tasks/%D0%98%D0%B3%D1%80%D0%B0.ipynb\" target=\"_parent\"><img src=\"https://colab.research.google.com/assets/colab-badge.svg\" alt=\"Open In Colab\"/></a>"
      ]
    },
    {
      "cell_type": "code",
      "execution_count": 4,
      "metadata": {
        "colab": {
          "base_uri": "https://localhost:8080/"
        },
        "id": "Vi57AaAyA4cb",
        "outputId": "e3527717-ea1c-4c88-da8a-379457482430"
      },
      "outputs": [
        {
          "output_type": "stream",
          "name": "stdout",
          "text": [
            "Угадайте число загаданное компьютером 10\n",
            "Число меньше, чем загадал компьютер\n",
            "Угадайте число загаданное компьютером 35\n",
            "Число больше чем загадал компьютер\n",
            "Угадайте число загаданное компьютером Выход\n",
            "Выход\n",
            "15\n"
          ]
        }
      ],
      "source": [
        "from random import randint\n",
        "n=randint(1, 100)\n",
        "while k!=n:\n",
        "  k=input('Угадайте число загаданное компьютером ')\n",
        "  if k=='Выход':\n",
        "    break\n",
        "  if int(k)<n:\n",
        "    print('Число меньше, чем загадал компьютер')\n",
        "  elif int(k)>n:\n",
        "    print('Число больше чем загадал компьютер')\n",
        "  else:\n",
        "    print('Вы угадали')\n",
        "print(k)\n",
        "print(n)"
      ]
    }
  ]
}